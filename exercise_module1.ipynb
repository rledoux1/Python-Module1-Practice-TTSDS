{
 "cells": [
  {
   "cell_type": "markdown",
   "metadata": {},
   "source": [
    "Data Science Fundamentals: Python |\n",
    "[Table of Contents](../index.ipynb)\n",
    "- - - \n",
    "<!--NAVIGATION-->\n",
    "Module 1. [Basic Python Syntax](./01_mod_python_syntax.ipynb) | [Variables and Objects](./02_python_variables_objects.ipynb) | [Operators](./03_python_operators.ipynb) | **[Exercises](./04_mod_practice.ipynb)**"
   ]
  },
  {
   "cell_type": "markdown",
   "metadata": {},
   "source": [
    "# Module 1: Practice Exercises"
   ]
  },
  {
   "cell_type": "markdown",
   "metadata": {},
   "source": [
    "1. Accept the user's first and last name and print them in reverse order with a space between them"
   ]
  },
  {
   "cell_type": "code",
   "execution_count": 1,
   "metadata": {},
   "outputs": [
    {
     "name": "stdout",
     "output_type": "stream",
     "text": [
      "Rachel :TechTalent\n",
      "Ledoux :South\n",
      "South  TechTalent\n"
     ]
    }
   ],
   "source": [
    "# Accept first and last name and print in reverse order with space between them\n",
    "# use input()\n",
    "fname = input(\"Rachel :\")\n",
    "lname = input(\"Ledoux :\")\n",
    "#use print(), \" \"-the wider the space, the more space printed\n",
    "print (lname + \"  \"  + fname )"
   ]
  },
  {
   "cell_type": "markdown",
   "metadata": {},
   "source": [
    "2. Accept an integer (n) and compute the value of n+nn+nnn"
   ]
  },
  {
   "cell_type": "code",
   "execution_count": 2,
   "metadata": {},
   "outputs": [
    {
     "name": "stdout",
     "output_type": "stream",
     "text": [
      "integer : 5\n",
      "615\n"
     ]
    }
   ],
   "source": [
    "# Computing an integer, n. n=5 integer,  alculate n + n + nnn\n",
    "a = int(input(\"integer : \"))\n",
    "# declaring strings via modulus, %s-concantenation of strings\n",
    "n1 = int( \"%s\" % a )\n",
    "n2 = int( \"%s%s\" % (a,a) )\n",
    "n3 = int( \"%s%s%s\" % (a,a,a) )\n",
    "print (n1+n2+n3) "
   ]
  },
  {
   "cell_type": "markdown",
   "metadata": {},
   "source": [
    "3. Ask the user \"What country are you from?\" then print the following statement: \"I have heard that [input] is a beautiful country!\""
   ]
  },
  {
   "cell_type": "code",
   "execution_count": 9,
   "metadata": {},
   "outputs": [
    {
     "name": "stdout",
     "output_type": "stream",
     "text": [
      "What country are you from? : Spain\n",
      "I have heard that Spain is a beautiful country\n"
     ]
    }
   ],
   "source": [
    "# using input to ask a question\n",
    "country = input(\"What country are you from? : \")\n",
    "print (\"I have heard that \" + country + \" is a beautiful country\")"
   ]
  },
  {
   "cell_type": "markdown",
   "metadata": {},
   "source": [
    "4. Is a String Immutable in Python?"
   ]
  },
  {
   "cell_type": "code",
   "execution_count": null,
   "metadata": {},
   "outputs": [],
   "source": [
    "# is a string immutable in Python?\n",
    "# answer: Yes, once a string is defined, it is stored as an object "
   ]
  },
  {
   "cell_type": "code",
   "execution_count": 23,
   "metadata": {},
   "outputs": [],
   "source": [
    "# What is the output of the following Python code?\n",
    "x = 10\n",
    "y = 50\n",
    "if x ** 2 > 100 and y < 100:\n",
    "    print(x, y)\n",
    "    # prints nothing"
   ]
  },
  {
   "cell_type": "markdown",
   "metadata": {},
   "source": []
  },
  {
   "cell_type": "markdown",
   "metadata": {},
   "source": [
    "5. What is the output of x AND explain why that is the output for: \n",
    "x = 36 / 4 * (3 +  2) * 4 + 2"
   ]
  },
  {
   "cell_type": "code",
   "execution_count": 24,
   "metadata": {},
   "outputs": [
    {
     "name": "stdout",
     "output_type": "stream",
     "text": [
      "182.0\n"
     ]
    }
   ],
   "source": [
    "# Arithmatic operations\n",
    "# Python order of operation use the PEMDAS rule\n",
    "x = 36 / 4 * (3 + 2) * 4 + 2  \n",
    "# 36/4=9 > 9*(5)= 45 > 45*4= 180> 180 + 2\n",
    "print (x)\n",
    "#"
   ]
  },
  {
   "cell_type": "code",
   "execution_count": 25,
   "metadata": {},
   "outputs": [
    {
     "name": "stdout",
     "output_type": "stream",
     "text": [
      "[10, 20, 30, 40]\n",
      "[10, 20, 30, 40]\n"
     ]
    }
   ],
   "source": [
    "#What is the output of the following addition (+) operator, and why does this code chunk execute this way?\n",
    "\n",
    "a = [10, 20]\n",
    "b = a \n",
    "b += [30, 40] # += adds to the list\n",
    "print(a)\n",
    "print(b)\n",
    "# lists are printed"
   ]
  },
  {
   "cell_type": "code",
   "execution_count": 26,
   "metadata": {},
   "outputs": [
    {
     "name": "stdout",
     "output_type": "stream",
     "text": [
      "2\n"
     ]
    }
   ],
   "source": [
    "#What is the output of the following code and what arithmetic operators is being used here?\n",
    "# modulus operond\n",
    "print(2%6)"
   ]
  },
  {
   "cell_type": "code",
   "execution_count": 27,
   "metadata": {},
   "outputs": [
    {
     "name": "stdout",
     "output_type": "stream",
     "text": [
      "216\n"
     ]
    }
   ],
   "source": [
    "# What is the output of the following code and what arithmetic operators are used here? \n",
    "# exponentiation operand\n",
    "print(2 * 3 ** 3 * 4)"
   ]
  },
  {
   "cell_type": "markdown",
   "metadata": {},
   "source": [
    "6. Write a for loop that multiplies the number 4 by all the integers from 0 to 10 and prints the following for each: \"4 multiplied by [i] is [x]\" "
   ]
  },
  {
   "cell_type": "code",
   "execution_count": 40,
   "metadata": {},
   "outputs": [
    {
     "name": "stdout",
     "output_type": "stream",
     "text": [
      "Multiply the numbers by: 4\n",
      "The Multiplication Table of:  4\n",
      "4 x 0 = 0\n",
      "4 x 1 = 4\n",
      "4 x 2 = 8\n",
      "4 x 3 = 12\n",
      "4 x 4 = 16\n",
      "4 x 5 = 20\n",
      "4 x 6 = 24\n",
      "4 x 7 = 28\n",
      "4 x 8 = 32\n",
      "4 x 9 = 36\n",
      "4 x 10 = 40\n"
     ]
    }
   ],
   "source": [
    "# multiples of 4 using loop\n",
    "\n",
    "number = int(input (\"Multiply the numbers by: \"))      \n",
    "# for loop  is used to iterate the multiplication 11 times       \n",
    "print (\"The Multiplication Table of: \", 4)    \n",
    "for count in range(0, 11):      \n",
    "   print (number, 'x', count, '=', number * count)    "
   ]
  },
  {
   "cell_type": "markdown",
   "metadata": {},
   "source": [
    "7. Print a multiplication table that matches the following. Use two nested for loops to achieve this."
   ]
  },
  {
   "cell_type": "code",
   "execution_count": 41,
   "metadata": {},
   "outputs": [
    {
     "name": "stdout",
     "output_type": "stream",
     "text": [
      " 1  2  3  4  5  6  7  8  9 10 \n",
      "\n",
      " 2  4  6  8 10 12 14 16 18 20 \n",
      "\n",
      " 3  6  9 12 15 18 21 24 27 30 \n",
      "\n",
      " 4  8 12 16 20 24 28 32 36 40 \n",
      "\n",
      " 5 10 15 20 25 30 35 40 45 50 \n",
      "\n",
      " 6 12 18 24 30 36 42 48 54 60 \n",
      "\n",
      " 7 14 21 28 35 42 49 56 63 70 \n",
      "\n",
      " 8 16 24 32 40 48 56 64 72 80 \n",
      "\n",
      " 9 18 27 36 45 54 63 72 81 90 \n",
      "\n",
      "10 20 30 40 50 60 70 80 90 100 \n",
      "\n"
     ]
    }
   ],
   "source": [
    "# multiplication table using nested for loops\n",
    "\n",
    "rows=10 # Multiplication table up to 10 \n",
    "columns=10 # column values \n",
    "for i in range(1,rows+1):\n",
    "    for j in range(1,columns+1):# inner for loop\n",
    "        c=i*j\n",
    "        print(\"{:2d} \".format(c),end='')\n",
    "    print(\"\\n\")  # line break\n"
   ]
  },
  {
   "cell_type": "markdown",
   "metadata": {},
   "source": [
    "<img src=\"files/table.png\">"
   ]
  },
  {
   "cell_type": "code",
   "execution_count": 45,
   "metadata": {},
   "outputs": [],
   "source": [
    "# What is a text editor?\n",
    "    # a program that give users access to enter programing languages, print, and edit on the command line\n",
    "\n",
    "#What is python? \n",
    "    # Python is a high-level, interpreted, interactive and object-oriented scripting language that is readable\n",
    "\n",
    "# What is jupyter notebook, what type of python environment is it, and what alternatives are there to jupyter notebook?\n",
    "    # The original web application for creating and sharing computational documents."
   ]
  },
  {
   "cell_type": "markdown",
   "metadata": {},
   "source": [
    "6. Is a String Immutable in Python?"
   ]
  },
  {
   "cell_type": "markdown",
   "metadata": {},
   "source": [
    "7. What is the output of x AND explain why that is the output for:"
   ]
  },
  {
   "cell_type": "raw",
   "metadata": {},
   "source": [
    "# repeat/PEMDAS rule used\n",
    "\n",
    "x = 36 / 4 * (3 +  2) * 4 + 2 \n",
    "print (x)"
   ]
  },
  {
   "cell_type": "markdown",
   "metadata": {},
   "source": [
    "<!--NAVIGATION-->\n",
    "Module 1. [Basic Python Syntax](./01_mod_python_syntax.ipynb) | [Variables and Objects](./02_python_variables_objects.ipynb) | [Operators](./03_python_operators.ipynb) | **[Practice](./04_mod_practice.ipynb)**\n",
    "<br>\n",
    "[top](#)"
   ]
  },
  {
   "cell_type": "markdown",
   "metadata": {},
   "source": [
    "- - -\n",
    "\n",
    "Copyright © 2020 Qualex Consulting Services Incorporated."
   ]
  }
 ],
 "metadata": {
  "kernelspec": {
   "display_name": "Python 3 (ipykernel)",
   "language": "python",
   "name": "python3"
  },
  "language_info": {
   "codemirror_mode": {
    "name": "ipython",
    "version": 3
   },
   "file_extension": ".py",
   "mimetype": "text/x-python",
   "name": "python",
   "nbconvert_exporter": "python",
   "pygments_lexer": "ipython3",
   "version": "3.9.12"
  }
 },
 "nbformat": 4,
 "nbformat_minor": 4
}
